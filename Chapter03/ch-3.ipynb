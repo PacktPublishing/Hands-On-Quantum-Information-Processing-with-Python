{
 "cells": [
  {
   "cell_type": "markdown",
   "metadata": {},
   "source": [
    "                   **For Chapter 3 stuff.** "
   ]
  },
  {
   "cell_type": "markdown",
   "metadata": {},
   "source": [
    "The basic Bell state generation."
   ]
  },
  {
   "cell_type": "code",
   "execution_count": null,
   "metadata": {},
   "outputs": [],
   "source": [
    "from qutip import *\n",
    "\n",
    "w1 = bell_state(state=\"00\")\n",
    "print(\"A matrix for the Bell pair generated is:\\n\", w1)"
   ]
  },
  {
   "cell_type": "markdown",
   "metadata": {},
   "source": [
    "Generating four Bell states"
   ]
  },
  {
   "cell_type": "code",
   "execution_count": null,
   "metadata": {},
   "outputs": [],
   "source": [
    "from qutip import *\n",
    "\n",
    "v_00 = bell_state(state=\"00\")\n",
    "\n",
    "v_01 = bell_state(state=\"01\")\n",
    "\n",
    "v_10 = bell_state(state=\"10\")\n",
    "\n",
    "v_11 = bell_state(state=\"11\")\n",
    "\n",
    "\n",
    "print(\"v_00 is:\", v_00)\n",
    "print(\"v_01 is:\", v_01)\n",
    "print(\"v_10 is:\", v_10)\n",
    "print(\"v_11 is:\", v_11)"
   ]
  },
  {
   "cell_type": "markdown",
   "metadata": {},
   "source": [
    "Three-qubit GHZ state"
   ]
  },
  {
   "cell_type": "code",
   "execution_count": null,
   "metadata": {},
   "outputs": [],
   "source": [
    "from qutip import *\n",
    "\n",
    "GHZ = ghz_state(N=3)\n",
    "print(GHZ)"
   ]
  },
  {
   "cell_type": "markdown",
   "metadata": {},
   "source": [
    "The three-qubit W state"
   ]
  },
  {
   "cell_type": "code",
   "execution_count": null,
   "metadata": {},
   "outputs": [],
   "source": [
    "from qutip import *\n",
    "import numpy as np\n",
    "\n",
    "a = np.array([[1], [0]]) \n",
    "b = np.array([[0], [1]]) \n",
    "\n",
    "a = Qobj(a)\n",
    "b = Qobj(b)\n",
    "\n",
    "W = (1/np.sqrt(3))* (tensor(b, a, a) + tensor(a, b, a) + tensor(a, a, b)) \n",
    "print(\"The W state is:\", W)"
   ]
  },
  {
   "cell_type": "markdown",
   "metadata": {},
   "source": [
    "Quantum Teleportation using cirq"
   ]
  },
  {
   "cell_type": "code",
   "execution_count": null,
   "metadata": {},
   "outputs": [],
   "source": [
    "import random\n",
    "import numpy as np\n",
    "import cirq\n",
    "\n",
    "\n",
    "def make_quantum_teleportation_circuit(ranX, ranY):\n",
    "    circuit = cirq.Circuit()\n",
    "    msg, alice, bob = cirq.LineQubit.range(3)\n",
    "\n",
    "    # Creates Bell state to be shared between Alice and Bob\n",
    "    circuit.append([cirq.H(alice), cirq.CNOT(alice, bob)])\n",
    "    # Creates a random state for the Message\n",
    "    circuit.append([cirq.X(msg)**ranX, cirq.Y(msg)**ranY])\n",
    "    # Bell measurement of the Message and Alice's entangled qubit\n",
    "    circuit.append([cirq.CNOT(msg, alice), cirq.H(msg)])\n",
    "    circuit.append(cirq.measure(msg, alice))\n",
    "    # Uses the two classical bits from the Bell measurement to recover the\n",
    "    # original quantum Message on Bob's entangled qubit\n",
    "    circuit.append([cirq.CNOT(alice, bob), cirq.CZ(msg, bob)])\n",
    "\n",
    "    return circuit\n",
    "\n",
    "\n",
    "def main():\n",
    "    ranX = random.random()\n",
    "    ranY = random.random()\n",
    "    circuit = make_quantum_teleportation_circuit(ranX, ranY)\n",
    "\n",
    "    print(\"Circuit:\")\n",
    "    print(circuit)\n",
    "\n",
    "    sim = cirq.Simulator()\n",
    "\n",
    "    # Create qubits.\n",
    "    q0 = cirq.LineQubit(0)\n",
    "\n",
    "    # Produces the message using random X and Y gates\n",
    "    message = sim.simulate(cirq.Circuit([cirq.X(q0)**ranX, cirq.Y(q0)**ranY]))\n",
    "\n",
    "    print(\"\\nBloch Sphere of Message After Random X and Y Gates:\")\n",
    "    # Prints the Bloch Sphere of the Message after the X and Y gates\n",
    "    expected = cirq.bloch_vector_from_state_vector(message.final_state, 0)\n",
    "    print(\"x: \", np.around(expected[0], 4), \"y: \", np.around(expected[1], 4),\n",
    "          \"z: \", np.around(expected[2], 4))\n",
    "\n",
    "    # Records the final state of the simulation\n",
    "    final_results = sim.simulate(circuit)\n",
    "\n",
    "    print(\"\\nBloch Sphere of Qubit 2 at Final State:\")\n",
    "    # Prints the Bloch Sphere of Bob's entangled qubit at the final state\n",
    "    teleported = cirq.bloch_vector_from_state_vector(final_results.final_state,\n",
    "                                                     2)\n",
    "    print(\"x: \", np.around(teleported[0], 4), \"y: \",\n",
    "          np.around(teleported[1], 4), \"z: \", np.around(teleported[2], 4))\n",
    "\n",
    "    return expected, teleported\n",
    "\n",
    "\n",
    "if __name__ == '__main__':\n",
    "    main()"
   ]
  },
  {
   "cell_type": "markdown",
   "metadata": {},
   "source": [
    "Quantum teleportation using qiskit"
   ]
  },
  {
   "cell_type": "code",
   "execution_count": null,
   "metadata": {},
   "outputs": [],
   "source": [
    "from qiskit import *\n",
    "from qiskit.visualization import plot_histogram\n",
    "\n",
    "circuit = QuantumCircuit(3,3)\n",
    "\n",
    "\n",
    "circuit.h(0)\n",
    "\n",
    "circuit.h(1)\n",
    "circuit.cx(1,2)\n",
    "\n",
    "circuit.cx(0,1)\n",
    "circuit.h(0)\n",
    "\n",
    "circuit.measure([0, 1], [0, 1])\n",
    "\n",
    "circuit.cx(1, 2)\n",
    "circuit.cz(0, 2)\n",
    "\n",
    "circuit.measure([2], [2])\n",
    "\n",
    "circuit.draw(output='text')\n",
    "\n",
    "simulator = Aer.get_backend('qasm_simulator')\n",
    "result = execute(circuit, backend=simulator, shots=1024).result()\n",
    "plot_histogram(result.get_counts(circuit))"
   ]
  }
 ],
 "metadata": {
  "kernelspec": {
   "display_name": "Python 3",
   "language": "python",
   "name": "python3"
  },
  "language_info": {
   "codemirror_mode": {
    "name": "ipython",
    "version": 3
   },
   "file_extension": ".py",
   "mimetype": "text/x-python",
   "name": "python",
   "nbconvert_exporter": "python",
   "pygments_lexer": "ipython3",
   "version": "3.7.6"
  }
 },
 "nbformat": 4,
 "nbformat_minor": 4
}
