{
 "cells": [
  {
   "cell_type": "markdown",
   "metadata": {},
   "source": [
    "Chapter 2 stuff. First, code for vector, matrix, and tensor manipulation."
   ]
  },
  {
   "cell_type": "code",
   "execution_count": null,
   "metadata": {},
   "outputs": [],
   "source": [
    "import numpy as np\n",
    "\n",
    "x = np.array([1,2,3]) # a vector with three components.\n",
    "y = np.array([4,5,6]) # another vector.\n",
    "\n",
    "A = np.array([[1,2,3], [4,5,6], [7,5,6]]) # a 3x3 matrix.\n",
    "B = np.array([[2,3,4], [1,2,0], [3,3,3]]) # another 3x3 matrix.\n",
    "\n",
    "v = np.kron(x,A) # a tensor product of vector x and matrix A.\n",
    "w = np.kron(y,B) # a tensor product of vector y and matrix B.\n",
    "\n",
    "# Arithmetic operations\n",
    "#vectors\n",
    "z = x + y # vector addition\n",
    "z = x - y # vector subtraction\n",
    "z = 2 * z # scalar multiplication\n",
    "#matrices\n",
    "C = A - B # matrix multiplication\n",
    "C = x * A # a product of a vector and a matrix\n",
    "#tensors\n",
    "u = v + w # tensor addition\n",
    "u = 5 * u # multiplication of a tensor by a scalar"
   ]
  },
  {
   "cell_type": "code",
   "execution_count": null,
   "metadata": {},
   "outputs": [],
   "source": [
    "import numpy as np\n",
    "\n",
    "x = np.array([1,2,3]) # a vector with three components.\n",
    "y = np.array([4,5,6]) # another vector.\n",
    "\n",
    "a = np.inner(x,y) # The output of an inner product of vectors is a scalar \n",
    "print(a)"
   ]
  },
  {
   "cell_type": "code",
   "execution_count": null,
   "metadata": {},
   "outputs": [],
   "source": [
    "import numpy as np\n",
    "\n",
    "x = np.array([1,2,3]) # a vector with three components.\n",
    "y = np.array([4,5,6]) # another vector.\n",
    "\n",
    "a = np.outer(x,y) # The output of an outer product of vectors is a matrix \n",
    "print(a)"
   ]
  },
  {
   "cell_type": "code",
   "execution_count": null,
   "metadata": {},
   "outputs": [],
   "source": [
    "import numpy as np\n",
    "\n",
    "A = np.array([[1,2,3], [4,5,6], [1,5,1]]) # a 3x3 matrix.\n",
    "det_A = np.linalg.det(A)\n",
    "print(det_A)"
   ]
  },
  {
   "cell_type": "code",
   "execution_count": null,
   "metadata": {},
   "outputs": [],
   "source": [
    "import numpy as np\n",
    "\n",
    "A = np.array([[1,2,3], [4,5,9], [5,2,1]]) # a 3x3 matrix.\n",
    "det_A = np.linalg.det(A)\n",
    "np.transpose(A)"
   ]
  },
  {
   "cell_type": "markdown",
   "metadata": {},
   "source": [
    "Compute tensor product of matrices A and B using both numpy and qutip"
   ]
  },
  {
   "cell_type": "code",
   "execution_count": null,
   "metadata": {},
   "outputs": [],
   "source": [
    "from qutip import *\n",
    "import numpy as np\n",
    "\n",
    "A = np.array([[2,3], [4,5]])\n",
    "B = np.array([[2,4], [1,0]])\n",
    "\n",
    "A = Qobj(A); B = Qobj(B)\n",
    "C = tensor(A,B); print(C) # computing tensor product using qutip\n",
    "\n",
    "D = np.kron(A,B); print(D) #computing tensor product using numpy"
   ]
  },
  {
   "cell_type": "markdown",
   "metadata": {},
   "source": [
    "Computing trace and partial trace of a tensor product using qutip"
   ]
  },
  {
   "cell_type": "code",
   "execution_count": null,
   "metadata": {},
   "outputs": [],
   "source": [
    "from qutip import *\n",
    "import numpy as np\n",
    "\n",
    "A = np.array([[2,3], [4,5]])\n",
    "B = np.array([[2,4], [1,1]]) \n",
    "\n",
    "A = Qobj(A); B = Qobj(B)\n",
    "T = tensor(A,B); \n",
    "print(\"The tensor product is\", T) \n",
    "print(\"The trace of C is\", T.tr())\n",
    "Tr_B = T.ptrace(0) # trace out B by selecting A; thus A Tr(B)  \n",
    "print(\"Tr_B is\", Tr_B)\n",
    "Tr_A = T.ptrace(1) # trace out A by selecting B; thus B Tr(A)\n",
    "print(\"Tr_A is\", Tr_A) "
   ]
  },
  {
   "cell_type": "code",
   "execution_count": null,
   "metadata": {},
   "outputs": [],
   "source": [
    "from qutip import *\n",
    "import numpy as np\n",
    "\n",
    "A = np.array([[1], [0]])\n",
    "B = np.array([[0], [1]])\n",
    "Rho_x = sigmax()\n",
    "\n",
    "A = Qobj(A)\n",
    "B = Qobj(B)\n",
    "\n",
    "C = Rho_x * A\n",
    "D = Rho_x * B \n",
    "print(C)\n",
    "print(D) "
   ]
  },
  {
   "cell_type": "code",
   "execution_count": null,
   "metadata": {},
   "outputs": [],
   "source": [
    "from qutip import *\n",
    "import numpy as np\n",
    "\n",
    "A = np.array([[1], [0]])\n",
    "B = np.array([[0], [1]])\n",
    "Rho_z = sigmaz()\n",
    "\n",
    "A = Qobj(A)\n",
    "B = Qobj(B)\n",
    "\n",
    "C = Rho_z * A\n",
    "D = Rho_z * B \n",
    "print(C)\n",
    "print(D) "
   ]
  },
  {
   "cell_type": "code",
   "execution_count": null,
   "metadata": {},
   "outputs": [],
   "source": [
    "from qutip import *\n",
    "import numpy as np\n",
    "\n",
    "A = np.array([[1], [0]])\n",
    "B = np.array([[0], [1]])\n",
    "Rho_y = sigmay()\n",
    "\n",
    "A = Qobj(A)\n",
    "B = Qobj(B)\n",
    "\n",
    "C = Rho_y * A\n",
    "D = Rho_y * B \n",
    "print(C)\n",
    "print(D) "
   ]
  }
 ],
 "metadata": {
  "kernelspec": {
   "display_name": "Python 3",
   "language": "python",
   "name": "python3"
  },
  "language_info": {
   "codemirror_mode": {
    "name": "ipython",
    "version": 3
   },
   "file_extension": ".py",
   "mimetype": "text/x-python",
   "name": "python",
   "nbconvert_exporter": "python",
   "pygments_lexer": "ipython3",
   "version": "3.7.6"
  }
 },
 "nbformat": 4,
 "nbformat_minor": 4
}
